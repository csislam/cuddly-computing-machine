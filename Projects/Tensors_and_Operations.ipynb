{
  "cells": [
    {
      "cell_type": "code",
      "execution_count": 1,
      "metadata": {
        "id": "muIbZtQoe_qD"
      },
      "outputs": [],
      "source": [
        "import torch"
      ]
    },
    {
      "cell_type": "markdown",
      "metadata": {
        "id": "sjbarddKe_qF"
      },
      "source": [
        "# Torch Tensors"
      ]
    },
    {
      "cell_type": "code",
      "execution_count": 2,
      "metadata": {
        "colab": {
          "base_uri": "https://localhost:8080/"
        },
        "id": "edjp-Zr_e_qH",
        "outputId": "cd5fe5db-a9b7-44cc-872a-eb4e1a18a15b"
      },
      "outputs": [
        {
          "output_type": "stream",
          "name": "stdout",
          "text": [
            "tensor([2, 2, 1])\n"
          ]
        }
      ],
      "source": [
        "#This is a 1-D Tensor\n",
        "a = torch.tensor([2,2,1])\n",
        "print(a)"
      ]
    },
    {
      "cell_type": "code",
      "execution_count": 3,
      "metadata": {
        "colab": {
          "base_uri": "https://localhost:8080/"
        },
        "id": "NASx_626e_qJ",
        "outputId": "a27cd234-c7c2-446c-8bfd-6c5c4f4b97bf"
      },
      "outputs": [
        {
          "output_type": "stream",
          "name": "stdout",
          "text": [
            "tensor([[2, 1, 4],\n",
            "        [3, 5, 4],\n",
            "        [1, 2, 0],\n",
            "        [4, 3, 2]])\n"
          ]
        }
      ],
      "source": [
        "#This is a 2-D Tensor\n",
        "b = torch.tensor([[2,1,4],[3,5,4],[1,2,0],[4,3,2]])\n",
        "print(b)"
      ]
    },
    {
      "cell_type": "code",
      "execution_count": 4,
      "metadata": {
        "colab": {
          "base_uri": "https://localhost:8080/"
        },
        "id": "KxldLZAse_qK",
        "outputId": "139bbff9-1315-45a4-a943-cbfcf7cb7ddd"
      },
      "outputs": [
        {
          "output_type": "stream",
          "name": "stdout",
          "text": [
            "torch.Size([3])\n",
            "torch.Size([4, 3])\n",
            "torch.Size([3])\n",
            "torch.Size([4, 3])\n"
          ]
        }
      ],
      "source": [
        "#The size of the tensors\n",
        "print(a.shape)\n",
        "print(b.shape)\n",
        "print(a.size())\n",
        "print(b.size())"
      ]
    },
    {
      "cell_type": "code",
      "execution_count": 5,
      "metadata": {
        "colab": {
          "base_uri": "https://localhost:8080/"
        },
        "id": "yIa8SIaNe_qL",
        "outputId": "befbdfee-df5d-48f7-8023-f7d1d0ff57e5"
      },
      "outputs": [
        {
          "output_type": "stream",
          "name": "stdout",
          "text": [
            "4\n"
          ]
        }
      ],
      "source": [
        "#Get the height/number of rows of b\n",
        "print(b.shape[0])"
      ]
    },
    {
      "cell_type": "code",
      "execution_count": 6,
      "metadata": {
        "id": "BG_jNa7Le_qM"
      },
      "outputs": [],
      "source": [
        "c = torch.FloatTensor([[2,1,4],[3,5,4],[1,2,0],[4,3,2]])\n",
        "#or we can do\n",
        "#c = torch.tensor([2,2,1], dtype = torch.float)"
      ]
    },
    {
      "cell_type": "code",
      "execution_count": 7,
      "metadata": {
        "id": "UfCI5yw3e_qO"
      },
      "outputs": [],
      "source": [
        "d = torch.DoubleTensor([[2,1,4],[3,5,4],[1,2,0],[4,3,2]])\n",
        "#or we can do\n",
        "#d = torch.tensor([2,2,1], dtype = torch.double)"
      ]
    },
    {
      "cell_type": "code",
      "execution_count": 8,
      "metadata": {
        "colab": {
          "base_uri": "https://localhost:8080/"
        },
        "id": "W-JstYLOe_qP",
        "outputId": "c2ce1509-49a7-4649-f3ad-d2c0258b15b9"
      },
      "outputs": [
        {
          "output_type": "stream",
          "name": "stdout",
          "text": [
            "tensor([[2., 1., 4.],\n",
            "        [3., 5., 4.],\n",
            "        [1., 2., 0.],\n",
            "        [4., 3., 2.]])\n",
            "torch.float32\n"
          ]
        }
      ],
      "source": [
        "print(c)\n",
        "print(c.dtype)"
      ]
    },
    {
      "cell_type": "code",
      "execution_count": 9,
      "metadata": {
        "colab": {
          "base_uri": "https://localhost:8080/"
        },
        "id": "hNziCRyGe_qQ",
        "outputId": "471ab830-117b-401a-fda6-ac25723e04c5"
      },
      "outputs": [
        {
          "output_type": "stream",
          "name": "stdout",
          "text": [
            "tensor([[2., 1., 4.],\n",
            "        [3., 5., 4.],\n",
            "        [1., 2., 0.],\n",
            "        [4., 3., 2.]], dtype=torch.float64)\n",
            "torch.float64\n"
          ]
        }
      ],
      "source": [
        "print(d)\n",
        "print(d.dtype)"
      ]
    },
    {
      "cell_type": "code",
      "execution_count": 10,
      "metadata": {
        "colab": {
          "base_uri": "https://localhost:8080/"
        },
        "id": "thkNoy4xe_qR",
        "outputId": "15c4afb4-0fe1-4bd6-864f-50f6d896b100"
      },
      "outputs": [
        {
          "output_type": "stream",
          "name": "stdout",
          "text": [
            "tensor(2.5833)\n"
          ]
        }
      ],
      "source": [
        "print(c.mean())"
      ]
    },
    {
      "cell_type": "code",
      "execution_count": 11,
      "metadata": {
        "colab": {
          "base_uri": "https://localhost:8080/"
        },
        "id": "-TNJE1JGe_qS",
        "outputId": "582b977a-4774-4d46-c2f0-ef066682239d"
      },
      "outputs": [
        {
          "output_type": "stream",
          "name": "stdout",
          "text": [
            "tensor(2.5833, dtype=torch.float64)\n"
          ]
        }
      ],
      "source": [
        "print(d.mean())"
      ]
    },
    {
      "cell_type": "code",
      "execution_count": 12,
      "metadata": {
        "colab": {
          "base_uri": "https://localhost:8080/"
        },
        "id": "as_dksD5e_qU",
        "outputId": "4b6c84e9-d7c0-4b0f-e793-64c57232765a"
      },
      "outputs": [
        {
          "output_type": "stream",
          "name": "stdout",
          "text": [
            "tensor(1.5050)\n"
          ]
        }
      ],
      "source": [
        "print(c.std())"
      ]
    },
    {
      "cell_type": "code",
      "execution_count": 13,
      "metadata": {
        "colab": {
          "base_uri": "https://localhost:8080/"
        },
        "id": "Txjw-Pvqe_qV",
        "outputId": "626f7783-2d33-423d-9a4f-be0b8bf71f56"
      },
      "outputs": [
        {
          "output_type": "stream",
          "name": "stdout",
          "text": [
            "tensor(1.5050, dtype=torch.float64)\n"
          ]
        }
      ],
      "source": [
        "print(d.std())"
      ]
    },
    {
      "cell_type": "code",
      "source": [
        "print(b.view(-1,1))"
      ],
      "metadata": {
        "colab": {
          "base_uri": "https://localhost:8080/"
        },
        "id": "7yY7E9sYY5JP",
        "outputId": "5704efd9-4dca-4899-c082-e1b7383fc749"
      },
      "execution_count": 14,
      "outputs": [
        {
          "output_type": "stream",
          "name": "stdout",
          "text": [
            "tensor([[2],\n",
            "        [1],\n",
            "        [4],\n",
            "        [3],\n",
            "        [5],\n",
            "        [4],\n",
            "        [1],\n",
            "        [2],\n",
            "        [0],\n",
            "        [4],\n",
            "        [3],\n",
            "        [2]])\n"
          ]
        }
      ]
    },
    {
      "cell_type": "code",
      "execution_count": 15,
      "metadata": {
        "colab": {
          "base_uri": "https://localhost:8080/"
        },
        "id": "Zx-c_xJze_qW",
        "outputId": "f3449d95-f5e1-453a-84d9-c7d02d302ff6"
      },
      "outputs": [
        {
          "output_type": "stream",
          "name": "stdout",
          "text": [
            "tensor([[2],\n",
            "        [1],\n",
            "        [4],\n",
            "        [3],\n",
            "        [5],\n",
            "        [4],\n",
            "        [1],\n",
            "        [2],\n",
            "        [0],\n",
            "        [4],\n",
            "        [3],\n",
            "        [2]])\n",
            "tensor([2, 1, 4, 3, 5, 4, 1, 2, 0, 4, 3, 2])\n",
            "tensor([[2, 1, 4, 3],\n",
            "        [5, 4, 1, 2],\n",
            "        [0, 4, 3, 2]])\n",
            "tensor([[2, 1, 4, 3],\n",
            "        [5, 4, 1, 2],\n",
            "        [0, 4, 3, 2]])\n",
            "tensor([[2, 1, 4, 3, 5, 4, 1, 2, 0, 4, 3, 2]])\n",
            "torch.Size([1, 12])\n",
            "\n",
            "\n",
            "\n",
            "\n",
            "tensor([[[-0.6448, -0.7070,  0.2448, -0.1845],\n",
            "         [ 0.6283,  0.3691, -1.1658, -0.5500],\n",
            "         [ 0.8514, -0.4000,  0.3119, -0.9622]],\n",
            "\n",
            "        [[ 0.2266,  1.0353,  0.5515,  0.7985],\n",
            "         [-0.3727, -0.5898, -1.7562, -0.7155],\n",
            "         [ 1.0802, -0.6098,  0.0704, -0.5965]]])\n",
            "tensor([[-0.6448, -0.7070,  0.2448, -0.1845,  0.6283,  0.3691, -1.1658, -0.5500,\n",
            "          0.8514, -0.4000,  0.3119, -0.9622],\n",
            "        [ 0.2266,  1.0353,  0.5515,  0.7985, -0.3727, -0.5898, -1.7562, -0.7155,\n",
            "          1.0802, -0.6098,  0.0704, -0.5965]])\n",
            "tensor([[-0.6448, -0.7070,  0.2448, -0.1845,  0.6283,  0.3691, -1.1658, -0.5500,\n",
            "          0.8514, -0.4000,  0.3119, -0.9622],\n",
            "        [ 0.2266,  1.0353,  0.5515,  0.7985, -0.3727, -0.5898, -1.7562, -0.7155,\n",
            "          1.0802, -0.6098,  0.0704, -0.5965]])\n"
          ]
        }
      ],
      "source": [
        "#Reshape b\n",
        "#Note: If one of the dimensions is -1, its size can be inferred (4x3) (12x1)\n",
        "print(b.view(-1,1))\n",
        "print(b.view(12))\n",
        "print(b.view(-1,4))\n",
        "print(b.view(3,4))\n",
        "#Assign b a new shape\n",
        "b = b.view(1,-1)\n",
        "print(b)\n",
        "print(b.shape)\n",
        "#We can even reshape 3D tensors\n",
        "print('\\n')\n",
        "#Create a 3D Tensor with 2 channels, 3 rows and 4 columns (channles,rows,columns)\n",
        "three_dim = torch.randn(2, 3, 4)\n",
        "print('\\n')\n",
        "print(three_dim)\n",
        "print(three_dim.view(2, 12))  # Reshape to 2 rows, 12 columns\n",
        "print(three_dim.view(2, -1))"
      ]
    },
    {
      "cell_type": "code",
      "execution_count": 16,
      "metadata": {
        "colab": {
          "base_uri": "https://localhost:8080/"
        },
        "id": "749YqTILe_qX",
        "outputId": "3cbf9f36-e9c5-46d2-8115-8d4427fa8c7e"
      },
      "outputs": [
        {
          "output_type": "stream",
          "name": "stdout",
          "text": [
            "tensor([[0.1520, 0.0879, 0.5473, 0.8216],\n",
            "        [0.9149, 0.6955, 0.8931, 0.4460],\n",
            "        [0.3416, 0.1554, 0.0483, 0.1534],\n",
            "        [0.5473, 0.3197, 0.0861, 0.6598]])\n"
          ]
        }
      ],
      "source": [
        "#Create a matrix with random numbers between 0 and 1\n",
        "r = torch.rand(4,4)\n",
        "print(r)"
      ]
    },
    {
      "cell_type": "code",
      "execution_count": 17,
      "metadata": {
        "colab": {
          "base_uri": "https://localhost:8080/"
        },
        "id": "FzOFM7W0e_qZ",
        "outputId": "af518231-acb2-426c-84fd-e0bc36a959a5"
      },
      "outputs": [
        {
          "output_type": "stream",
          "name": "stdout",
          "text": [
            "tensor([[-0.0372, -1.0965, -0.3743, -0.4851],\n",
            "        [ 1.6373,  1.7240, -3.1758,  1.0520],\n",
            "        [-0.6969, -0.3877, -0.1002, -1.0641],\n",
            "        [-1.9048,  0.2388,  0.3510,  0.9365]])\n",
            "torch.float32\n"
          ]
        }
      ],
      "source": [
        "#Create a matrix with random numbers taken from a normal distribution with mean 0 and variance 1\n",
        "r2 = torch.randn(4,4)\n",
        "print(r2)\n",
        "print(r2.dtype)"
      ]
    },
    {
      "cell_type": "code",
      "execution_count": 18,
      "metadata": {
        "colab": {
          "base_uri": "https://localhost:8080/"
        },
        "id": "HeGtCvyde_qa",
        "outputId": "178547fb-9757-40d5-8014-4582ea44dc18"
      },
      "outputs": [
        {
          "output_type": "stream",
          "name": "stdout",
          "text": [
            "tensor([9, 6, 6, 7, 8])\n",
            "torch.int64\n"
          ]
        }
      ],
      "source": [
        "#Create an array of 5 random integers from values between 6 and 9 (exlusive of 10)\n",
        "in_array = torch.randint(6,10, (5,))\n",
        "print(in_array)\n",
        "print(in_array.dtype)"
      ]
    },
    {
      "cell_type": "code",
      "execution_count": 19,
      "metadata": {
        "colab": {
          "base_uri": "https://localhost:8080/"
        },
        "id": "oIR_nhRQe_qb",
        "outputId": "6cda4875-fa97-4ae8-ac1f-843564d18a6b"
      },
      "outputs": [
        {
          "output_type": "stream",
          "name": "stdout",
          "text": [
            "tensor([[7, 9, 6],\n",
            "        [6, 7, 6],\n",
            "        [9, 8, 7]])\n"
          ]
        }
      ],
      "source": [
        "#Create a 2-D array (or matrix) of size 3x3 filled with random integers from values between 6 and 9 (exlusive of 10)\n",
        "in_array2 = torch.randint(6,10, (3,3))\n",
        "print(in_array2)"
      ]
    },
    {
      "cell_type": "code",
      "execution_count": 20,
      "metadata": {
        "colab": {
          "base_uri": "https://localhost:8080/"
        },
        "id": "WkmU_hyQe_qc",
        "outputId": "cf17d5eb-c0cd-4226-e023-282f20b4ee65"
      },
      "outputs": [
        {
          "output_type": "stream",
          "name": "stdout",
          "text": [
            "5\n",
            "9\n"
          ]
        }
      ],
      "source": [
        "#Get the number of elemetns in in_array\n",
        "print(torch.numel(in_array))\n",
        "#Get the number of elemetns in in_array\n",
        "print(torch.numel(in_array2))"
      ]
    },
    {
      "cell_type": "code",
      "execution_count": 21,
      "metadata": {
        "colab": {
          "base_uri": "https://localhost:8080/"
        },
        "id": "bZtsNvroe_qd",
        "outputId": "4af7f6ed-104b-4775-a87b-917895510583"
      },
      "outputs": [
        {
          "output_type": "stream",
          "name": "stdout",
          "text": [
            "tensor([[0, 0, 0],\n",
            "        [0, 0, 0],\n",
            "        [0, 0, 0]])\n",
            "tensor([[1., 1., 1.],\n",
            "        [1., 1., 1.],\n",
            "        [1., 1., 1.]])\n",
            "torch.float32\n"
          ]
        }
      ],
      "source": [
        "#Construct a 3x3 matrix of zeros and of dtype long:\n",
        "z = torch.zeros(3, 3, dtype=torch.long)\n",
        "print(z)\n",
        "#Construct a 3x3 matrix of ones\n",
        "o = torch.ones(3,3)\n",
        "print(o)\n",
        "print(o.dtype)\n"
      ]
    },
    {
      "cell_type": "code",
      "execution_count": 22,
      "metadata": {
        "colab": {
          "base_uri": "https://localhost:8080/"
        },
        "id": "Dkaq_LSVe_qe",
        "outputId": "1d7a5eda-8efc-479e-871c-b193cce2bd83"
      },
      "outputs": [
        {
          "output_type": "stream",
          "name": "stdout",
          "text": [
            "tensor([[ 0.7893, -1.6368,  2.6852,  0.5307],\n",
            "        [ 1.1147,  0.6232,  1.8796,  1.2018],\n",
            "        [-0.1070,  0.7851, -1.2290,  1.0277],\n",
            "        [ 0.8981, -0.1853,  0.0398, -1.0570]], dtype=torch.float64)\n"
          ]
        }
      ],
      "source": [
        "#r2 = torch.randn(4,4)\n",
        "r2_like = torch.randn_like(r2, dtype=torch.double)    # Convert the data type of the tensor\n",
        "print(r2_like)"
      ]
    },
    {
      "cell_type": "code",
      "execution_count": 23,
      "metadata": {
        "colab": {
          "base_uri": "https://localhost:8080/"
        },
        "id": "sqsUtHa7e_qg",
        "outputId": "548e6a4a-bd92-47b8-b16d-118c62555dd5"
      },
      "outputs": [
        {
          "output_type": "stream",
          "name": "stdout",
          "text": [
            "tensor([[ 0.1148, -1.0086,  0.1731,  0.3365],\n",
            "        [ 2.5522,  2.4195, -2.2827,  1.4981],\n",
            "        [-0.3553, -0.2323, -0.0519, -0.9107],\n",
            "        [-1.3575,  0.5585,  0.4371,  1.5963]])\n"
          ]
        }
      ],
      "source": [
        "#Add two tensors, make sure they are the same size and data type\n",
        "add_result = torch.add(r,r2)\n",
        "print(add_result)"
      ]
    },
    {
      "cell_type": "code",
      "execution_count": 24,
      "metadata": {
        "colab": {
          "base_uri": "https://localhost:8080/"
        },
        "id": "OddTdrRne_qg",
        "outputId": "a5652829-be6e-4916-bae7-0345d72210a3"
      },
      "outputs": [
        {
          "output_type": "stream",
          "name": "stdout",
          "text": [
            "tensor([[ 0.1148, -1.0086,  0.1731,  0.3365],\n",
            "        [ 2.5522,  2.4195, -2.2827,  1.4981],\n",
            "        [-0.3553, -0.2323, -0.0519, -0.9107],\n",
            "        [-1.3575,  0.5585,  0.4371,  1.5963]])\n"
          ]
        }
      ],
      "source": [
        "#In-place addition (change the value of r2)\n",
        "r2.add_(r)    #r2 = torch.add(r,r2) r2 = r + r2\n",
        "print(r2)"
      ]
    },
    {
      "cell_type": "code",
      "source": [
        "#Create a matrix with random numbers taken from a normal distribution with mean 0 and variance 1\n",
        "r2 = torch.randn(4,4)\n",
        "print(r2)\n",
        "print(r2.dtype)"
      ],
      "metadata": {
        "colab": {
          "base_uri": "https://localhost:8080/"
        },
        "id": "UesifLB7b2Nm",
        "outputId": "d784a6b9-579c-4480-81ca-1f3f4b55a518"
      },
      "execution_count": 25,
      "outputs": [
        {
          "output_type": "stream",
          "name": "stdout",
          "text": [
            "tensor([[-3.1538, -0.9474, -0.1537, -1.0624],\n",
            "        [-1.2590, -0.1644,  0.2341,  0.0393],\n",
            "        [-0.0746, -0.9727, -0.9996, -0.0628],\n",
            "        [ 0.1206,  1.2393, -0.5536, -0.0149]])\n",
            "torch.float32\n"
          ]
        }
      ]
    },
    {
      "cell_type": "code",
      "execution_count": 26,
      "metadata": {
        "colab": {
          "base_uri": "https://localhost:8080/"
        },
        "id": "2LoykRA7e_qi",
        "outputId": "11769cae-97e6-4667-b06e-d5c5c53ad7e3"
      },
      "outputs": [
        {
          "output_type": "stream",
          "name": "stdout",
          "text": [
            "tensor([-0.9474, -0.1644, -0.9727,  1.2393])\n",
            "tensor([[-3.1538, -0.9474],\n",
            "        [-1.2590, -0.1644],\n",
            "        [-0.0746, -0.9727],\n",
            "        [ 0.1206,  1.2393]])\n",
            "tensor([[-3.1538, -0.9474, -0.1537, -1.0624],\n",
            "        [-1.2590, -0.1644,  0.2341,  0.0393],\n",
            "        [-0.0746, -0.9727, -0.9996, -0.0628]])\n",
            "tensor(-0.0628)\n",
            "-0.06284154951572418\n",
            "tensor([-0.0746, -0.9727, -0.9996, -0.0628])\n"
          ]
        }
      ],
      "source": [
        "#Matrix Slicing Operation\n",
        "\n",
        "print(r2[:,1])  #All the rows in the first column\n",
        "print(r2[:,:2]) #All the rows from column 0 to up until 2 (excluding 2)\n",
        "print(r2[:3,:]) #All the rows until 2 and all the columns\n",
        "num_ten = r2[2,3]\n",
        "print(num_ten)\n",
        "print(num_ten.item()) #extract the number from tensor\n",
        "print(r2[2,:])"
      ]
    },
    {
      "cell_type": "markdown",
      "metadata": {
        "id": "e9WgsKqEe_qj"
      },
      "source": [
        "## Numpy Bridge"
      ]
    },
    {
      "cell_type": "code",
      "execution_count": 27,
      "metadata": {
        "id": "tfyYqRj-e_qj"
      },
      "outputs": [],
      "source": [
        "import numpy as np"
      ]
    },
    {
      "cell_type": "code",
      "execution_count": 28,
      "metadata": {
        "colab": {
          "base_uri": "https://localhost:8080/"
        },
        "id": "6OaHjDRSe_qk",
        "outputId": "5bb68422-935b-4a4e-df63-1ac32a49ccf0"
      },
      "outputs": [
        {
          "output_type": "stream",
          "name": "stdout",
          "text": [
            "tensor([1., 1., 1., 1., 1.])\n",
            "[1. 1. 1. 1. 1.]\n",
            "tensor([2., 2., 2., 2., 2.])\n",
            "[2. 2. 2. 2. 2.]\n"
          ]
        }
      ],
      "source": [
        "#Converting a Torch Tensor to a NumPy Array\n",
        "a = torch.ones(5)\n",
        "print(a)\n",
        "b = a.numpy()\n",
        "print(b)\n",
        "#See how the numpy array changed their value.\n",
        "a.add_(1)\n",
        "print(a)\n",
        "print(b) #numpy array afftected by the torch tensor and this is called numpy bridge\n",
        "#whatever happens on pytorch tensor also happens on numpy array"
      ]
    },
    {
      "cell_type": "code",
      "execution_count": 29,
      "metadata": {
        "colab": {
          "base_uri": "https://localhost:8080/"
        },
        "id": "PXQ4jE8qe_ql",
        "outputId": "96c1fc63-9dfb-4772-e9f1-38f3d41a7b29"
      },
      "outputs": [
        {
          "output_type": "stream",
          "name": "stdout",
          "text": [
            "[2. 2. 2. 2. 2.]\n",
            "tensor([2., 2., 2., 2., 2.], dtype=torch.float64)\n"
          ]
        }
      ],
      "source": [
        "#Converting NumPy Array to Torch Tensor\n",
        "#See how changing the np array changed the Torch Tensor automatically\n",
        "a = np.ones(5)\n",
        "b = torch.from_numpy(a)\n",
        "np.add(a, 1, out=a) #this is how we do inplace operation in numpy array\n",
        "print(a)\n",
        "print(b)\n",
        "#again we see that they are affected by each other"
      ]
    },
    {
      "cell_type": "code",
      "execution_count": 30,
      "metadata": {
        "colab": {
          "base_uri": "https://localhost:8080/"
        },
        "id": "oTTDOxJee_ql",
        "outputId": "5256be98-44ea-4e0b-cc1b-4d9433f19846"
      },
      "outputs": [
        {
          "output_type": "stream",
          "name": "stdout",
          "text": [
            "tensor([[-3.1538, -0.9474, -0.1537, -1.0624],\n",
            "        [-1.2590, -0.1644,  0.2341,  0.0393],\n",
            "        [-0.0746, -0.9727, -0.9996, -0.0628],\n",
            "        [ 0.1206,  1.2393, -0.5536, -0.0149]], device='cuda:0')\n"
          ]
        }
      ],
      "source": [
        "#Move the tensor to the GPU\n",
        "#To speed up the computation\n",
        "#r2 = torch.randn(4,4)\n",
        "r2 = r2.cuda()\n",
        "print(r2)"
      ]
    },
    {
      "cell_type": "code",
      "execution_count": 31,
      "metadata": {
        "colab": {
          "base_uri": "https://localhost:8080/"
        },
        "id": "V79iK9A8e_qm",
        "outputId": "9589a53c-8ab8-49b7-a143-9638d79b065d"
      },
      "outputs": [
        {
          "output_type": "stream",
          "name": "stdout",
          "text": [
            "True\n",
            "tensor([1., 1., 1., 1., 1.], device='cuda:0')\n"
          ]
        }
      ],
      "source": [
        "#Provide Easy switching between CPU and GPU\n",
        "CUDA = torch.cuda.is_available()\n",
        "add_result = torch.ones(5)\n",
        "print(CUDA)\n",
        "if CUDA:\n",
        "    add_result = add_result.cuda()\n",
        "    print(add_result)"
      ]
    },
    {
      "cell_type": "code",
      "execution_count": 32,
      "metadata": {
        "colab": {
          "base_uri": "https://localhost:8080/"
        },
        "id": "s4aKmZmWe_qn",
        "outputId": "d14df11c-cefe-458b-c8fb-cc228aeae2ec"
      },
      "outputs": [
        {
          "output_type": "stream",
          "name": "stdout",
          "text": [
            "[2, 3, 4, 1]\n",
            "tensor([2, 3, 4, 1]) torch.int64\n"
          ]
        }
      ],
      "source": [
        "#You can also convert a list to a tensor\n",
        "a = [2,3,4,1]\n",
        "print(a)\n",
        "to_list = torch.tensor(a)\n",
        "print(to_list, to_list.dtype)"
      ]
    },
    {
      "cell_type": "code",
      "execution_count": 33,
      "metadata": {
        "colab": {
          "base_uri": "https://localhost:8080/"
        },
        "id": "4tIwJ2-He_qo",
        "outputId": "85444532-cc90-4fc3-8049-631cad76d8ba"
      },
      "outputs": [
        {
          "output_type": "stream",
          "name": "stdout",
          "text": [
            "tensor([[1., 2.],\n",
            "        [3., 4.],\n",
            "        [5., 6.],\n",
            "        [7., 8.]]) torch.float32\n"
          ]
        }
      ],
      "source": [
        "data =  [[1., 2.], [3., 4.],\n",
        "         [5., 6.], [7., 8.]]\n",
        "T = torch.tensor(data)\n",
        "print(T, T.dtype)"
      ]
    },
    {
      "cell_type": "markdown",
      "metadata": {
        "id": "odBb0kU-e_qp"
      },
      "source": [
        "## Tensor Concatenation"
      ]
    },
    {
      "cell_type": "code",
      "execution_count": 34,
      "metadata": {
        "colab": {
          "base_uri": "https://localhost:8080/"
        },
        "id": "oksTAE6Je_qp",
        "outputId": "5ae677b2-5391-4431-81e1-22727ecf095a"
      },
      "outputs": [
        {
          "output_type": "stream",
          "name": "stdout",
          "text": [
            "tensor([[-0.1593, -0.5412,  1.9941, -0.1635,  0.3915],\n",
            "        [ 1.8772,  0.1240, -1.0693,  0.5378,  0.0754]])\n",
            "tensor([[ 0.9732,  0.7348, -0.8170, -0.5190,  0.7311],\n",
            "        [-1.6219,  0.0606,  0.0193, -1.7091,  0.4067],\n",
            "        [ 0.5329, -0.3023, -2.8233,  1.2926,  1.2651]])\n",
            "\n",
            "\n",
            "tensor([[-0.1593, -0.5412,  1.9941, -0.1635,  0.3915],\n",
            "        [ 1.8772,  0.1240, -1.0693,  0.5378,  0.0754],\n",
            "        [ 0.9732,  0.7348, -0.8170, -0.5190,  0.7311],\n",
            "        [-1.6219,  0.0606,  0.0193, -1.7091,  0.4067],\n",
            "        [ 0.5329, -0.3023, -2.8233,  1.2926,  1.2651]])\n",
            "\n",
            "\n",
            "tensor([[-0.1568, -0.8716,  0.8139],\n",
            "        [-1.1996,  0.4861, -0.5074]])\n",
            "tensor([[-1.0284,  1.4343,  0.0379,  0.9249, -2.8766],\n",
            "        [-1.0872, -1.3713, -0.8981, -0.9317, -0.7392]])\n",
            "\n",
            "\n",
            "tensor([[-0.1568, -0.8716,  0.8139, -1.0284,  1.4343,  0.0379,  0.9249, -2.8766],\n",
            "        [-1.1996,  0.4861, -0.5074, -1.0872, -1.3713, -0.8981, -0.9317, -0.7392]])\n",
            "\n",
            "\n"
          ]
        }
      ],
      "source": [
        "#Tensor Concatenation\n",
        "first_1 = torch.randn(2, 5)\n",
        "print(first_1)\n",
        "second_1 = torch.randn(3, 5)\n",
        "print(second_1)\n",
        "#Concatenate along the 0 dimension (concatenate rows)\n",
        "con_1 = torch.cat([first_1, second_1]) #They are just concatenated along the rows\n",
        "print('\\n')\n",
        "print(con_1)\n",
        "print('\\n')\n",
        "first_2 = torch.randn(2, 3)\n",
        "print(first_2)\n",
        "second_2 = torch.randn(2, 5)\n",
        "print(second_2)\n",
        "# Concatenate along the 1 dimension (concatenate columns)\n",
        "con_2 = torch.cat([first_2, second_2], 1)\n",
        "print('\\n')\n",
        "print(con_2)\n",
        "print('\\n')"
      ]
    },
    {
      "cell_type": "markdown",
      "metadata": {
        "id": "2JToRogWe_qq"
      },
      "source": [
        "## Adding Dimensions to Tensors"
      ]
    },
    {
      "cell_type": "code",
      "execution_count": 35,
      "metadata": {
        "colab": {
          "base_uri": "https://localhost:8080/"
        },
        "id": "C3xGDIUPe_qq",
        "outputId": "eee10be6-3380-4c7d-d28c-a157d25232f2"
      },
      "outputs": [
        {
          "output_type": "stream",
          "name": "stdout",
          "text": [
            "tensor([[1, 2, 3, 4]])\n",
            "torch.Size([1, 4])\n",
            "tensor([[1],\n",
            "        [2],\n",
            "        [3],\n",
            "        [4]])\n",
            "torch.Size([4, 1])\n",
            "\n",
            "\n",
            "tensor([[[0.1539, 0.1306, 0.6058, 0.2339],\n",
            "         [0.5561, 0.6363, 0.2523, 0.3853],\n",
            "         [0.8599, 0.5682, 0.6133, 0.3886]],\n",
            "\n",
            "        [[0.5895, 0.7332, 0.3863, 0.0800],\n",
            "         [0.9303, 0.4661, 0.8792, 0.6195],\n",
            "         [0.9767, 0.0274, 0.8958, 0.5765]]])\n",
            "\n",
            "\n",
            "tensor([[0.6058, 0.2523, 0.6133],\n",
            "        [0.3863, 0.8792, 0.8958]])\n",
            "torch.Size([2, 3])\n",
            "\n",
            "\n",
            "tensor([[[0.6058],\n",
            "         [0.2523],\n",
            "         [0.6133]],\n",
            "\n",
            "        [[0.3863],\n",
            "         [0.8792],\n",
            "         [0.8958]]])\n",
            "torch.Size([2, 3, 1])\n"
          ]
        }
      ],
      "source": [
        "#Adds a dimension of 1 along a specified index\n",
        "tensor_1 = torch.tensor([1, 2, 3, 4]) #4\n",
        "tensor_a = torch.unsqueeze(tensor_1, 0) #1x4\n",
        "print(tensor_a)\n",
        "print(tensor_a.shape)\n",
        "tensor_b = torch.unsqueeze(tensor_1,1) #4x1\n",
        "print(tensor_b)\n",
        "print(tensor_b.shape)\n",
        "print('\\n')\n",
        "tensor_2 = torch.rand(2,3,4)\n",
        "print(tensor_2)\n",
        "print('\\n')\n",
        "tensor_c = tensor_2[:,:,2]\n",
        "print(tensor_c)\n",
        "print(tensor_c.shape)\n",
        "print('\\n')\n",
        "tensor_d = torch.unsqueeze(tensor_c,2)\n",
        "print(tensor_d)\n",
        "print(tensor_d.shape)"
      ]
    },
    {
      "cell_type": "markdown",
      "metadata": {
        "id": "C7ZPvIJde_qr"
      },
      "source": [
        "## AutoGrad"
      ]
    },
    {
      "cell_type": "code",
      "execution_count": 36,
      "metadata": {
        "colab": {
          "base_uri": "https://localhost:8080/"
        },
        "id": "Wo3R8plee_qs",
        "outputId": "cab51ac7-7a95-4d73-eadb-016dbba2de63"
      },
      "outputs": [
        {
          "output_type": "stream",
          "name": "stdout",
          "text": [
            "tensor([5., 7., 9.], grad_fn=<AddBackward0>)\n",
            "<AddBackward0 object at 0x7ce6b5113040>\n",
            "tensor(21., grad_fn=<SumBackward0>)\n",
            "<SumBackward0 object at 0x7ce6b5113820>\n"
          ]
        }
      ],
      "source": [
        "#If requires_grad=True, the Tensor object keeps track of how it was created.\n",
        "x = torch.tensor([1., 2., 3], requires_grad=True)\n",
        "y = torch.tensor([4., 5., 6], requires_grad=True)\n",
        "#Notice that both x and y have their required_grad set to true, therefore we can compute gradients with respect to them\n",
        "z = x + y\n",
        "print(z)\n",
        "# z knows that is was created as a result of addition of x and y. It knows that it wasn't read in from a file\n",
        "print(z.grad_fn)\n",
        "#And if we go further on this\n",
        "s = z.sum()\n",
        "print(s)\n",
        "print(s.grad_fn)"
      ]
    },
    {
      "cell_type": "code",
      "execution_count": 37,
      "metadata": {
        "colab": {
          "base_uri": "https://localhost:8080/"
        },
        "id": "t_jYSsRje_qv",
        "outputId": "4e61f94b-6f61-413f-caca-017ee2550dd9"
      },
      "outputs": [
        {
          "output_type": "stream",
          "name": "stdout",
          "text": [
            "tensor([1., 1., 1.])\n"
          ]
        }
      ],
      "source": [
        "#Now if we backpropagate on s, we can find the gradients of s with respect to x\n",
        "s.backward() #compute all the derivatives at once\n",
        "print(x.grad) #derivative of s with respect to x"
      ]
    },
    {
      "cell_type": "code",
      "execution_count": 38,
      "metadata": {
        "colab": {
          "base_uri": "https://localhost:8080/"
        },
        "id": "X3rE04o8e_qw",
        "outputId": "54969b33-d887-4276-e101-b2c4f7836865"
      },
      "outputs": [
        {
          "output_type": "stream",
          "name": "stdout",
          "text": [
            "False False\n",
            "None\n",
            "<AddBackward0 object at 0x7ce6b514f640>\n",
            "True\n",
            "None\n",
            "True\n",
            "True\n",
            "False\n"
          ]
        }
      ],
      "source": [
        "# By default, Tensors have `requires_grad=False`\n",
        "x = torch.randn(2, 2)\n",
        "y = torch.randn(2, 2)\n",
        "print(x.requires_grad, y.requires_grad)\n",
        "z = x + y #z does not know who created it\n",
        "# So you can't backprop through z\n",
        "print(z.grad_fn)\n",
        "#Another way to set the requires_grad = True is\n",
        "x.requires_grad_() #do an inplace operation\n",
        "y.requires_grad_() #do an inplace operation\n",
        "# z contains enough information to compute gradients, as we saw above\n",
        "z = x + y\n",
        "print(z.grad_fn)\n",
        "# If any input to an operation has ``requires_grad=True``, so will the output\n",
        "print(z.requires_grad)\n",
        "# Now z has the computation history that relates itself to x and y\n",
        "\n",
        "new_z = z.detach()\n",
        "print(new_z.grad_fn)\n",
        "# z.detach() returns a tensor that shares the same storage as ``z``, but with the computation history forgotten.\n",
        "#It doesn't know anything about how it was computed.In other words, we have broken the Tensor away from its past history\n",
        "\n",
        "#You can also stop autograd from tracking history on Tensors. This concept is useful when applying Transfer Learning\n",
        "print(x.requires_grad)\n",
        "print((x+10).requires_grad)\n",
        "\n",
        "with torch.no_grad():\n",
        "    print((x+10).requires_grad)"
      ]
    },
    {
      "cell_type": "code",
      "execution_count": 40,
      "metadata": {
        "colab": {
          "base_uri": "https://localhost:8080/"
        },
        "id": "FMalSHtse_qy",
        "outputId": "7f41873c-8f92-4d49-d3c1-8784582eb020"
      },
      "outputs": [
        {
          "output_type": "stream",
          "name": "stdout",
          "text": [
            "tensor([[0., 0., 0., 0., 0.],\n",
            "        [0., 0., 0., 0., 0.],\n",
            "        [0., 0., 0., 0., 0.],\n",
            "        [0., 0., 0., 0., 0.],\n",
            "        [0., 0., 0., 0., 0.]])\n",
            "tensor([[0., 0., 0., 0., 0.],\n",
            "        [0., 0., 0., 0., 0.],\n",
            "        [0., 0., 0., 0., 0.],\n",
            "        [0., 0., 0., 0., 0.],\n",
            "        [0., 0., 0., 0., 0.]])\n"
          ]
        }
      ],
      "source": [
        "m1 = torch.ones(5,5)\n",
        "m2 = torch.zeros(5,5)\n",
        "#Perform element-wise multiplaction\n",
        "mul = torch.mul(m1,m2)\n",
        "#Another way to perform element-wise multiplaction\n",
        "mul_another = m1*m2\n",
        "print(mul)\n",
        "print(mul_another)"
      ]
    },
    {
      "cell_type": "code",
      "execution_count": 40,
      "metadata": {
        "id": "MwJHWjHte_qy"
      },
      "outputs": [],
      "source": []
    }
  ],
  "metadata": {
    "kernelspec": {
      "display_name": "Python 3",
      "name": "python3"
    },
    "language_info": {
      "codemirror_mode": {
        "name": "ipython",
        "version": 3
      },
      "file_extension": ".py",
      "mimetype": "text/x-python",
      "name": "python",
      "nbconvert_exporter": "python",
      "pygments_lexer": "ipython3",
      "version": "3.6.5"
    },
    "colab": {
      "provenance": [],
      "gpuType": "T4"
    },
    "accelerator": "GPU"
  },
  "nbformat": 4,
  "nbformat_minor": 0
}