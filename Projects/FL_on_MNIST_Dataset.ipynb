{
  "cells": [
    {
      "cell_type": "markdown",
      "id": "fecffc14",
      "metadata": {
        "id": "fecffc14"
      },
      "source": [
        "# Implementation of Federated Learning Method in Pytorch"
      ]
    },
    {
      "cell_type": "markdown",
      "source": [
        "In this scenario, there is a central server and 4 clients who are collaboratively training a machine learning model.\n",
        "Initial model is a CNN model with at 4 convolutionalvlayers followed by 2 linear layers.\n",
        "We divide the MNIST Digit training dataset evenly among the 4 clients and get a separate local training dataset for each client.\n",
        "We use FedAvg algorithm for averaging the model updates coming from the clients.\n",
        "Once the training is over, we plot the train and test set performance of the global model in a single graph."
      ],
      "metadata": {
        "id": "AxZhzEQVKdvZ"
      },
      "id": "AxZhzEQVKdvZ"
    },
    {
      "cell_type": "code",
      "execution_count": null,
      "id": "a5c994aa",
      "metadata": {
        "id": "a5c994aa"
      },
      "outputs": [],
      "source": [
        "# Import Required Libraries\n",
        "import numpy as np\n",
        "import torch\n",
        "import torch.nn as nn\n",
        "import torch.optim as optim\n",
        "from torchvision import datasets, transforms\n",
        "from torch.utils.data import DataLoader, random_split\n",
        "import matplotlib.pyplot as plt\n",
        "import torch.nn.functional as F"
      ]
    },
    {
      "cell_type": "code",
      "execution_count": null,
      "id": "ac4c0a55",
      "metadata": {
        "id": "ac4c0a55"
      },
      "outputs": [],
      "source": [
        "# Define the CNN Model\n",
        "class CNN(nn.Module):\n",
        "    def __init__(self):\n",
        "        super(CNN, self).__init__()\n",
        "        self.conv1 = nn.Conv2d(1, 32, kernel_size=3, padding=1)\n",
        "        self.conv2 = nn.Conv2d(32, 64, kernel_size=3, padding=1)\n",
        "        self.conv3 = nn.Conv2d(64, 128, kernel_size=3, padding=1)\n",
        "        self.conv4 = nn.Conv2d(128, 128, kernel_size=3, padding=1)\n",
        "        self.pool = nn.MaxPool2d(kernel_size=2, stride=2)\n",
        "        self.fc1 = nn.Linear(128 * 1 * 1, 256)  # Adjusted based on the actual output size\n",
        "        self.fc2 = nn.Linear(256, 10)\n",
        "\n",
        "    def forward(self, x):\n",
        "        x = self.pool(F.relu(self.conv1(x)))  # 28x28 -> 14x14\n",
        "        x = self.pool(F.relu(self.conv2(x)))  # 14x14 -> 7x7\n",
        "        x = self.pool(F.relu(self.conv3(x)))  # 7x7 -> 3x3\n",
        "        x = self.pool(F.relu(self.conv4(x)))  # 3x3 -> 1x1\n",
        "        x = x.view(-1, 128 * 1 * 1)           # Adjusted view size\n",
        "        x = F.relu(self.fc1(x))\n",
        "        x = self.fc2(x)\n",
        "        return x"
      ]
    },
    {
      "cell_type": "code",
      "execution_count": null,
      "id": "9b7208ed",
      "metadata": {
        "id": "9b7208ed"
      },
      "outputs": [],
      "source": [
        "# Load and Split the MNIST Dataset\n",
        "transform = transforms.Compose([transforms.ToTensor(), transforms.Normalize((0.1307,), (0.3081,))])\n",
        "mnist_train = datasets.MNIST(root='./data', train=True, download=True, transform=transform)\n",
        "mnist_test = datasets.MNIST(root='./data', train=False, download=True, transform=transform)\n",
        "\n",
        "# Split the training data into 4 equal parts\n",
        "client_datasets = random_split(mnist_train, [15000, 15000, 15000, 15000])\n",
        "test_loader = DataLoader(mnist_test, batch_size=1000, shuffle=False)"
      ]
    },
    {
      "cell_type": "code",
      "execution_count": null,
      "id": "88066527",
      "metadata": {
        "id": "88066527"
      },
      "outputs": [],
      "source": [
        "# Define Training and Evaluation Functions\n",
        "def train(model, data_loader, criterion, optimizer, epochs=1):\n",
        "    model.train()\n",
        "    for _ in range(epochs):\n",
        "        for data, target in data_loader:\n",
        "            optimizer.zero_grad()\n",
        "            output = model(data)\n",
        "            loss = criterion(output, target)\n",
        "            loss.backward()\n",
        "            optimizer.step()\n",
        "\n",
        "def evaluate(model, data_loader):\n",
        "    model.eval()\n",
        "    correct = 0\n",
        "    total = 0\n",
        "    with torch.no_grad():\n",
        "        for data, target in data_loader:\n",
        "            output = model(data)\n",
        "            _, predicted = torch.max(output.data, 1)\n",
        "            total += target.size(0)\n",
        "            correct += (predicted == target).sum().item()\n",
        "    return 100 * correct / total"
      ]
    },
    {
      "cell_type": "code",
      "execution_count": null,
      "id": "eba662b5",
      "metadata": {
        "id": "eba662b5"
      },
      "outputs": [],
      "source": [
        "# Federated Averaging Algorithm (FedAvg)\n",
        "def fed_avg(global_model, client_models):\n",
        "    global_dict = global_model.state_dict()\n",
        "    for k in global_dict.keys():\n",
        "        global_dict[k] = torch.stack([client_models[i].state_dict()[k].float() for i in range(len(client_models))], 0).mean(0)\n",
        "    global_model.load_state_dict(global_dict)"
      ]
    },
    {
      "cell_type": "code",
      "execution_count": null,
      "id": "0c328edd",
      "metadata": {
        "id": "0c328edd",
        "outputId": "eee553f8-97e6-4ef6-ec0f-bee10c95b548"
      },
      "outputs": [
        {
          "name": "stdout",
          "output_type": "stream",
          "text": [
            "Round 1\n",
            "Train Accuracy: 11.24%, Test Accuracy: 11.35%\n",
            "Round 2\n",
            "Train Accuracy: 11.24%, Test Accuracy: 11.35%\n",
            "Round 3\n",
            "Train Accuracy: 11.24%, Test Accuracy: 11.35%\n",
            "Round 4\n",
            "Train Accuracy: 19.18%, Test Accuracy: 19.25%\n",
            "Round 5\n",
            "Train Accuracy: 19.78%, Test Accuracy: 19.97%\n",
            "Round 6\n",
            "Train Accuracy: 62.26%, Test Accuracy: 62.29%\n",
            "Round 7\n",
            "Train Accuracy: 80.31%, Test Accuracy: 80.16%\n",
            "Round 8\n",
            "Train Accuracy: 89.16%, Test Accuracy: 89.19%\n",
            "Round 9\n",
            "Train Accuracy: 92.14%, Test Accuracy: 92.18%\n"
          ]
        },
        {
          "data": {
            "image/png": "[encoded data removed]",
            "text/plain": [
              "<Figure size 1000x500 with 1 Axes>"
            ]
          },
          "metadata": {},
          "output_type": "display_data"
        }
      ],
      "source": [
        "# Federated Learning Training Loop\n",
        "\n",
        "# Initialize global model and client models\n",
        "global_model = CNN()\n",
        "client_models = [CNN() for _ in range(4)]\n",
        "criterion = nn.CrossEntropyLoss()\n",
        "optimizers = [optim.SGD(client_model.parameters(), lr=0.01) for client_model in client_models]\n",
        "\n",
        "# DataLoaders for clients\n",
        "client_loaders = [DataLoader(dataset, batch_size=32, shuffle=True) for dataset in client_datasets]\n",
        "\n",
        "train_accuracies = []\n",
        "test_accuracies = []\n",
        "\n",
        "for round in range(100):\n",
        "    print(f'Round {round+1}')\n",
        "\n",
        "    # Train each client model on its local dataset\n",
        "    for i in range(4):\n",
        "        train(client_models[i], client_loaders[i], criterion, optimizers[i], epochs=1)\n",
        "\n",
        "    # Perform FedAvg\n",
        "    fed_avg(global_model, client_models)\n",
        "\n",
        "    # Update client models with the new global model weights\n",
        "    for client_model in client_models:\n",
        "        client_model.load_state_dict(global_model.state_dict())\n",
        "\n",
        "    # Evaluate the global model\n",
        "    train_acc = evaluate(global_model, DataLoader(mnist_train, batch_size=1000, shuffle=False))\n",
        "    test_acc = evaluate(global_model, test_loader)\n",
        "    train_accuracies.append(train_acc)\n",
        "    test_accuracies.append(test_acc)\n",
        "\n",
        "    print(f'Train Accuracy: {train_acc:.2f}%, Test Accuracy: {test_acc:.2f}%')\n",
        "\n",
        "    if test_acc >= 90:\n",
        "        break# Plotting the results, since no need to keep going after 90%\n",
        "plt.figure(figsize=(10, 5))\n",
        "plt.plot(train_accuracies, label='Train Accuracy')\n",
        "plt.plot(test_accuracies, label='Test Accuracy')\n",
        "plt.xlabel('Federated Learning Rounds')\n",
        "plt.ylabel('Accuracy')\n",
        "plt.legend()\n",
        "plt.show()"
      ]
    },
    {
      "cell_type": "markdown",
      "id": "14f3aa6a",
      "metadata": {
        "id": "14f3aa6a"
      },
      "source": [
        "the train and test set performance of the global model are almost identical\n",
        "at round 4 and 6 the blue line can be seen behind the orange line."
      ]
    },
    {
      "cell_type": "code",
      "execution_count": null,
      "id": "7a8a51cd",
      "metadata": {
        "id": "7a8a51cd"
      },
      "outputs": [],
      "source": []
    }
  ],
  "metadata": {
    "kernelspec": {
      "display_name": "Python 3 (ipykernel)",
      "language": "python",
      "name": "python3"
    },
    "language_info": {
      "codemirror_mode": {
        "name": "ipython",
        "version": 3
      },
      "file_extension": ".py",
      "mimetype": "text/x-python",
      "name": "python",
      "nbconvert_exporter": "python",
      "pygments_lexer": "ipython3",
      "version": "3.9.13"
    },
    "colab": {
      "provenance": []
    }
  },
  "nbformat": 4,
  "nbformat_minor": 5
}