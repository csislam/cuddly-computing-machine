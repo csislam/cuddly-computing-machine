{
  "nbformat": 4,
  "nbformat_minor": 0,
  "metadata": {
    "colab": {
      "provenance": []
    },
    "kernelspec": {
      "name": "python3",
      "display_name": "Python 3"
    },
    "accelerator": "GPU"
  },
  "cells": [
    {
      "cell_type": "code",
      "metadata": {
        "colab": {
          "base_uri": "https://localhost:8080/"
        },
        "id": "1ptWqA6S4-j7",
        "outputId": "028c487c-4fa7-4b20-f682-58f13763c93f"
      },
      "source": [
        "from google.colab import drive\n",
        "drive.mount('/content/gdrive')"
      ],
      "execution_count": null,
      "outputs": [
        {
          "output_type": "stream",
          "name": "stdout",
          "text": [
            "Drive already mounted at /content/gdrive; to attempt to forcibly remount, call drive.mount(\"/content/gdrive\", force_remount=True).\n"
          ]
        }
      ]
    },
    {
      "cell_type": "code",
      "metadata": {
        "id": "VZUd68EO5CpA"
      },
      "source": [
        "#!ls \"/content/gdrive/MyDrive/\""
      ],
      "execution_count": null,
      "outputs": []
    },
    {
      "cell_type": "code",
      "metadata": {
        "id": "QU23LpARaS0E"
      },
      "source": [
        "import torch\n",
        "from torch.utils.data import DataLoader\n",
        "import torch.utils.data as Data\n",
        "from torchvision import datasets, transforms\n",
        "import numpy as np\n",
        "import os\n",
        "from torch.autograd import Variable\n",
        "import torch.nn as nn\n",
        "import torch.nn.functional as F\n",
        "import torch.optim as optim"
      ],
      "execution_count": null,
      "outputs": []
    },
    {
      "cell_type": "code",
      "metadata": {
        "id": "A2g6xweNaX7i"
      },
      "source": [
        "device = torch.device(\"cuda:0\" if torch.cuda.is_available() else \"cpu\")\n"
      ],
      "execution_count": null,
      "outputs": []
    },
    {
      "cell_type": "code",
      "metadata": {
        "id": "5b6wuUtxaZf0"
      },
      "source": [
        "import torch\n",
        "import torch.nn as nn\n",
        "import torch.optim as optim\n",
        "from torchvision import datasets, transforms\n",
        "from torch.utils.data import DataLoader\n",
        "import torch.nn.functional as F\n",
        "import numpy as np\n",
        "\n",
        "class Model_Drop(nn.Module):\n",
        "    def __init__(self):\n",
        "\n",
        "        super(Model_Drop, self).__init__()\n",
        "\n",
        "        self.conv1 = nn.Conv2d(1, 32, kernel_size=3,padding=1)\n",
        "        self.conv2 = nn.Conv2d(32, 32, kernel_size=3,padding=1)\n",
        "        self.conv3 = nn.Conv2d(32, 64, kernel_size=3,padding=1)\n",
        "        self.conv4 = nn.Conv2d(64, 64, kernel_size=3,padding=1)\n",
        "        self.fc1 = nn.Linear(7*7*64, 200)\n",
        "        self.fc2 = nn.Linear(200, 200)\n",
        "        self.fc3 = nn.Linear(200, 10)\n",
        "        self.drop_layer = nn.Dropout(p=0.50)\n",
        "\n",
        "    def last_hidden_layer_output(self, x):\n",
        "        x = F.relu(self.conv1(x))\n",
        "        x = F.max_pool2d(F.relu(self.conv2(x)), 2)\n",
        "        x = F.relu(self.conv3(x))\n",
        "        x = F.max_pool2d(F.relu(self.conv4(x)), 2)\n",
        "        x = x.view(-1, 7*7*64)\n",
        "        x = self.drop_layer((F.relu(self.fc1(x))))\n",
        "        x = self.drop_layer((F.relu(self.fc2(x))))\n",
        "        return x\n",
        "\n",
        "    def forward(self, x):\n",
        "        x = self.last_hidden_layer_output(x)\n",
        "        x = self.fc3(x)\n",
        "        return x\n"
      ],
      "execution_count": null,
      "outputs": []
    },
    {
      "cell_type": "code",
      "metadata": {
        "colab": {
          "base_uri": "https://localhost:8080/"
        },
        "id": "oik7898Vab1h",
        "outputId": "c9b2e4af-14a2-4857-ba8a-4c19970a3c57"
      },
      "source": [
        "!git clone https://github.com/knamdar/data.git"
      ],
      "execution_count": null,
      "outputs": [
        {
          "output_type": "stream",
          "name": "stdout",
          "text": [
            "fatal: destination path 'data' already exists and is not an empty directory.\n"
          ]
        }
      ]
    },
    {
      "cell_type": "code",
      "metadata": {
        "id": "Qjj6jvAOagcJ"
      },
      "source": [
        "mnist_train = datasets.MNIST(\"data\", train=True, download=True, transform=transforms.ToTensor())\n",
        "mnist_test = datasets.MNIST(\"data\", train=False, download=True, transform=transforms.ToTensor())\n",
        "\n",
        "trainload = DataLoader(mnist_train, batch_size=100, shuffle=True)\n",
        "testload = DataLoader(mnist_test, batch_size=100, shuffle=False)\n"
      ],
      "execution_count": null,
      "outputs": []
    },
    {
      "cell_type": "code",
      "metadata": {
        "colab": {
          "base_uri": "https://localhost:8080/"
        },
        "id": "wI0hpzXNalM9",
        "outputId": "9f8ea250-4c89-42fe-dd24-2110c36c5813"
      },
      "source": [
        "teach_model = Model_Drop()\n",
        "teach_model.to(device)\n",
        "teach_model.load_state_dict(torch.load(\"/content/gdrive/MyDrive/MNIST_DIGIT_model_cnn_teacher_T_20.pt\"))\n",
        "teach_model.eval()"
      ],
      "execution_count": null,
      "outputs": [
        {
          "output_type": "execute_result",
          "data": {
            "text/plain": [
              "Model_Drop(\n",
              "  (conv1): Conv2d(1, 32, kernel_size=(3, 3), stride=(1, 1), padding=(1, 1))\n",
              "  (conv2): Conv2d(32, 32, kernel_size=(3, 3), stride=(1, 1), padding=(1, 1))\n",
              "  (conv3): Conv2d(32, 64, kernel_size=(3, 3), stride=(1, 1), padding=(1, 1))\n",
              "  (conv4): Conv2d(64, 64, kernel_size=(3, 3), stride=(1, 1), padding=(1, 1))\n",
              "  (fc1): Linear(in_features=3136, out_features=200, bias=True)\n",
              "  (fc2): Linear(in_features=200, out_features=200, bias=True)\n",
              "  (fc3): Linear(in_features=200, out_features=10, bias=True)\n",
              "  (drop_layer): Dropout(p=0.5, inplace=False)\n",
              ")"
            ]
          },
          "metadata": {},
          "execution_count": 9
        }
      ]
    },
    {
      "cell_type": "code",
      "metadata": {
        "colab": {
          "base_uri": "https://localhost:8080/"
        },
        "id": "pB644jOTanRA",
        "outputId": "cc5ae9a1-6432-4e8b-fd10-2d8629d3ec9e"
      },
      "source": [
        "model = Model_Drop()\n",
        "model.to(device)"
      ],
      "execution_count": null,
      "outputs": [
        {
          "output_type": "execute_result",
          "data": {
            "text/plain": [
              "Model_Drop(\n",
              "  (conv1): Conv2d(1, 32, kernel_size=(3, 3), stride=(1, 1), padding=(1, 1))\n",
              "  (conv2): Conv2d(32, 32, kernel_size=(3, 3), stride=(1, 1), padding=(1, 1))\n",
              "  (conv3): Conv2d(32, 64, kernel_size=(3, 3), stride=(1, 1), padding=(1, 1))\n",
              "  (conv4): Conv2d(64, 64, kernel_size=(3, 3), stride=(1, 1), padding=(1, 1))\n",
              "  (fc1): Linear(in_features=3136, out_features=200, bias=True)\n",
              "  (fc2): Linear(in_features=200, out_features=200, bias=True)\n",
              "  (fc3): Linear(in_features=200, out_features=10, bias=True)\n",
              "  (drop_layer): Dropout(p=0.5, inplace=False)\n",
              ")"
            ]
          },
          "metadata": {},
          "execution_count": 10
        }
      ]
    },
    {
      "cell_type": "code",
      "metadata": {
        "id": "1s9_UDWOaoz_"
      },
      "source": [
        "criterion = nn.CrossEntropyLoss()\n",
        "#criterion2 = nn.KLDivLoss()\n",
        "\n",
        "optimizer = optim.Adam(model.parameters(), lr=0.001)\n",
        "#optimizer = optim.SGD(model.parameters(), lr=0.1, momentum=0.5)\n",
        "\n",
        "torch.manual_seed(2)\n",
        "torch.cuda.manual_seed(2)"
      ],
      "execution_count": null,
      "outputs": []
    },
    {
      "cell_type": "code",
      "metadata": {
        "colab": {
          "base_uri": "https://localhost:8080/"
        },
        "id": "jDuQgIRmarAO",
        "outputId": "91563385-e975-4474-856f-841824c661a9"
      },
      "source": [
        "model.train()\n",
        "T = 20\n",
        "\n",
        "def dist_loss(t, s, temp):\n",
        "    prob_t = F.softmax(t/temp, dim=1)\n",
        "    log_prob_s = F.log_softmax(s/temp, dim=1)\n",
        "    dist_loss = -(prob_t*log_prob_s).sum(dim=1).mean()\n",
        "    return dist_loss\n",
        "\n",
        "for epoch in range(20):\n",
        "\n",
        "    model.train()\n",
        "    loss_sigma = 0.0\n",
        "    correct = 0.0\n",
        "    total = 0.0\n",
        "    for i, data in enumerate(trainload):\n",
        "\n",
        "        inputs, labels = data\n",
        "        inputs = inputs.to(device)\n",
        "        labels = labels.to(device)\n",
        "\n",
        "        optimizer.zero_grad()\n",
        "\n",
        "        outputs = model(inputs.float())\n",
        "\n",
        "        teacher_outputs = teach_model(inputs.float())\n",
        "\n",
        "        loss = dist_loss(teacher_outputs, outputs, T)\n",
        "\n",
        "        loss.backward()\n",
        "\n",
        "        optimizer.step()\n"
      ],
      "execution_count": null,
      "outputs": [
        {
          "output_type": "stream",
          "name": "stdout",
          "text": [
            "Current epoch is :  0\n",
            "Current epoch is :  1\n",
            "Current epoch is :  2\n",
            "Current epoch is :  3\n",
            "Current epoch is :  4\n",
            "Current epoch is :  5\n",
            "Current epoch is :  6\n",
            "Current epoch is :  7\n",
            "Current epoch is :  8\n",
            "Current epoch is :  9\n",
            "Current epoch is :  10\n",
            "Current epoch is :  11\n",
            "Current epoch is :  12\n",
            "Current epoch is :  13\n",
            "Current epoch is :  14\n",
            "Current epoch is :  15\n",
            "Current epoch is :  16\n",
            "Current epoch is :  17\n",
            "Current epoch is :  18\n",
            "Current epoch is :  19\n"
          ]
        }
      ]
    },
    {
      "cell_type": "code",
      "metadata": {
        "id": "Y1TXIdxs29Ep",
        "colab": {
          "base_uri": "https://localhost:8080/"
        },
        "outputId": "8f6af46f-4c85-41b9-ffd0-0a1d49ac8978"
      },
      "source": [
        "total_loss, total_err = 0., 0.\n",
        "\n",
        "model.eval()\n",
        "\n",
        "for X, y in testload:\n",
        "    X, y = X.to(device), y.to(device)\n",
        "\n",
        "    outputs = model(X.float())\n",
        "\n",
        "    total_err += (outputs.max(dim=1)[1] != y).sum().item()\n",
        "\n",
        "print(\"total test error is \", total_err / len(testload.dataset))"
      ],
      "execution_count": null,
      "outputs": [
        {
          "output_type": "stream",
          "name": "stdout",
          "text": [
            "total test error is  0.0059\n"
          ]
        }
      ]
    },
    {
      "cell_type": "code",
      "metadata": {
        "id": "fOIcalNKauhr"
      },
      "source": [
        "model.eval()\n",
        "torch.save(model.state_dict(), \"MNIST_DIGIT_model_cnn_student_T_20.pt\")\n"
      ],
      "execution_count": null,
      "outputs": []
    },
    {
      "cell_type": "code",
      "metadata": {
        "id": "DcDSw2b05LFs"
      },
      "source": [
        "torch.save(model.state_dict(), \"/content/gdrive/MyDrive/MNIST_DIGIT_model_cnn_student_T_20.pt\")"
      ],
      "execution_count": null,
      "outputs": []
    }
  ]
}